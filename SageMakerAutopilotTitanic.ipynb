{
 "cells": [
  {
   "cell_type": "markdown",
   "metadata": {},
   "source": [
    "# Amazon SageMaker Autopilot demo on a popular kaggle.com challenge: \"Titanic: Machine Learning from Disaster\"\n",
    "\n",
    "For more info please visti the Titanic challenge officila webpage https://www.kaggle.com/c/titanic In this demo we are going to use only Titanic training set in order to validate the accuracy of autopilot binary classification\n",
    "\n",
    "**Data Dictionary** of the 891 passengers available in the Titanic training set.\n",
    "\n",
    "- **survival** Survival (0 = No, 1 = Yes)  <font color='green'>  --> Target variable!</font>\n",
    "- **pclass** Ticket class (1 = 1st, 2 = 2nd, 3 = 3rd)\n",
    "- **sex** Sex\n",
    "- **Age** Age in years\n",
    "- **sibsp** # of siblings / spouses aboard the Titanic\n",
    "- **parch** # of parents / children aboard the Titanic\n",
    "- **ticket** Ticket number\n",
    "- **fare** Passenger fare\n",
    "- **cabin** Cabin number\n",
    "- **embarked** Port of Embarkation (C = Cherbourg, Q = Queenstown, S = Southampton)\n",
    "\n",
    "\n",
    "## Prerequisites"
   ]
  },
  {
   "cell_type": "code",
   "execution_count": 43,
   "metadata": {},
   "outputs": [],
   "source": [
    "import sagemaker\n",
    "import boto3\n",
    "from sagemaker import get_execution_role\n",
    "import pandas as pd\n",
    "#import s3fs\n",
    "from time import gmtime, strftime, sleep\n",
    "import matplotlib.pyplot as plt \n",
    "from sklearn.metrics import accuracy_score\n",
    "import seaborn as sn\n",
    "import datetime\n",
    "import pytz\n",
    "\n",
    "region = boto3.Session().region_name\n",
    "\n",
    "session = sagemaker.Session()\n",
    "bucket = session.default_bucket()\n",
    "prefix = 'titanic'\n",
    "\n",
    "role = get_execution_role()\n",
    "\n",
    "sm = boto3.Session().client(service_name='sagemaker',region_name=region)"
   ]
  },
  {
   "cell_type": "markdown",
   "metadata": {},
   "source": [
    "### Read the data into a Pandas data frame and take a look.\n",
    "For demo purposes, the original training set is divided into a training set (80% of samples) and testing set (remaining 20%)"
   ]
  },
  {
   "cell_type": "code",
   "execution_count": 2,
   "metadata": {},
   "outputs": [
    {
     "name": "stdout",
     "output_type": "stream",
     "text": [
      "--2020-12-09 11:36:03--  https://raw.githubusercontent.com/brego81/SageMaker-Autopilot-Titanic/main/Titanic_train.csv\n",
      "Resolving raw.githubusercontent.com (raw.githubusercontent.com)... 199.232.24.133\n",
      "Connecting to raw.githubusercontent.com (raw.githubusercontent.com)|199.232.24.133|:443... connected.\n",
      "HTTP request sent, awaiting response... 200 OK\n",
      "Length: 61194 (60K) [text/plain]\n",
      "Saving to: ‘Titanic_train.csv’\n",
      "\n",
      "Titanic_train.csv   100%[===================>]  59.76K  --.-KB/s    in 0.001s  \n",
      "\n",
      "Last-modified header missing -- time-stamps turned off.\n",
      "2020-12-09 11:36:03 (42.4 MB/s) - ‘Titanic_train.csv’ saved [61194/61194]\n",
      "\n",
      "*** TRAIN ***\n",
      "     PassengerId  Survived  Pclass  \\\n",
      "590          591         0       3   \n",
      "131          132         0       3   \n",
      "628          629         0       3   \n",
      "195          196         1       1   \n",
      "230          231         1       1   \n",
      "\n",
      "                                             Name     Sex   Age  SibSp  Parch  \\\n",
      "590                          Rintamaki, Mr. Matti    male  35.0      0      0   \n",
      "131                Coelho, Mr. Domingos Fernandeo    male  20.0      0      0   \n",
      "628                     Bostandyeff, Mr. Guentcho    male  26.0      0      0   \n",
      "195                          Lurette, Miss. Elise  female  58.0      0      0   \n",
      "230  Harris, Mrs. Henry Birkhardt (Irene Wallach)  female  35.0      1      0   \n",
      "\n",
      "                 Ticket      Fare Cabin Embarked  \n",
      "590   STON/O 2. 3101273    7.1250   NaN        S  \n",
      "131  SOTON/O.Q. 3101307    7.0500   NaN        S  \n",
      "628              349224    7.8958   NaN        S  \n",
      "195            PC 17569  146.5208   B80        C  \n",
      "230               36973   83.4750   C83        S  \n",
      "\n",
      "\n",
      "*** TEST ***\n",
      "    PassengerId  Pclass                                               Name  \\\n",
      "4             5       3                           Allen, Mr. William Henry   \n",
      "8             9       3  Johnson, Mrs. Oscar W (Elisabeth Vilhelmina Berg)   \n",
      "13           14       3                        Andersson, Mr. Anders Johan   \n",
      "15           16       2                   Hewlett, Mrs. (Mary D Kingcome)    \n",
      "40           41       3     Ahlin, Mrs. Johan (Johanna Persdotter Larsson)   \n",
      "\n",
      "       Sex   Age  SibSp  Parch  Ticket     Fare Cabin Embarked  \n",
      "4     male  35.0      0      0  373450   8.0500   NaN        S  \n",
      "8   female  27.0      0      2  347742  11.1333   NaN        S  \n",
      "13    male  39.0      1      5  347082  31.2750   NaN        S  \n",
      "15  female  55.0      0      0  248706  16.0000   NaN        S  \n",
      "40  female  40.0      1      0    7546   9.4750   NaN        S  \n",
      "Train data uploaded to: s3://sagemaker-eu-west-1-108080333481/titanic/train/train_data.csv\n",
      "Test data uploaded to: s3://sagemaker-eu-west-1-108080333481/titanic/test/test_data.csv\n"
     ]
    }
   ],
   "source": [
    "!wget -N https://raw.githubusercontent.com/brego81/SageMaker-Autopilot-Titanic/main/Titanic_train.csv\n",
    "df_data = pd.read_csv('./Titanic_train.csv')\n",
    "#df_data = pd.read_csv('s3://{}/{}/train.csv'.format(bucket,prefix))\n",
    "\n",
    "df_train = df_data.sample(frac=0.8,random_state=10)\n",
    "df_test = df_data.drop(df_train.index)\n",
    "df_test_data_no_target = df_test.drop(columns=['Survived'])\n",
    "\n",
    "print(\"*** TRAIN ***\")\n",
    "print(df_train.head())\n",
    "print(\"\\n\\n*** TEST ***\")\n",
    "print(df_test_data_no_target.head())\n",
    "\n",
    "\n",
    "## Upload the dataset to Amazon S3 ##\n",
    "train_file = 'train_data.csv';\n",
    "df_train.to_csv(train_file, index=False, header=True)\n",
    "train_data_s3_path = session.upload_data(path=train_file, key_prefix=prefix + \"/train\")\n",
    "print('Train data uploaded to: ' + train_data_s3_path)\n",
    "\n",
    "test_file = 'test_data.csv';\n",
    "df_test_data_no_target.to_csv(test_file, index=False, header=False)\n",
    "test_data_s3_path = session.upload_data(path=test_file, key_prefix=prefix + \"/test\")\n",
    "print('Test data uploaded to: ' + test_data_s3_path)"
   ]
  },
  {
   "cell_type": "markdown",
   "metadata": {},
   "source": [
    "### Optional - let's look at how our features relate to the target"
   ]
  },
  {
   "cell_type": "code",
   "execution_count": 73,
   "metadata": {},
   "outputs": [],
   "source": [
    "#for column in df_train.select_dtypes(include=['object']).columns:\n",
    "#    if column != 'Survived':\n",
    "#        display(pd.crosstab(index=df_train[column], columns=df_train['Survived'], normalize='columns'))\n"
   ]
  },
  {
   "cell_type": "markdown",
   "metadata": {},
   "source": [
    "### Optional - now let's look at how our features relate to one another."
   ]
  },
  {
   "cell_type": "code",
   "execution_count": 4,
   "metadata": {},
   "outputs": [],
   "source": [
    "#display(df_train.corr())\n",
    "#pd.plotting.scatter_matrix(df_train, figsize=(12, 12))\n",
    "#plt.show()"
   ]
  },
  {
   "cell_type": "markdown",
   "metadata": {},
   "source": [
    "### Setting up the SageMaker Autopilot Job\n",
    "It is important underlying that for this demo we are imposing the following constraints\n",
    "- MaxCandidates = 5 \n",
    "- MaxRuntimePerTrainingJobInSeconds = 60*10 \n",
    "- MaxAutoMLJobRuntimeInSeconds = 60*90 \n"
   ]
  },
  {
   "cell_type": "code",
   "execution_count": 5,
   "metadata": {},
   "outputs": [],
   "source": [
    "input_data_config = [{\n",
    "      'DataSource': {\n",
    "        'S3DataSource': {\n",
    "          'S3DataType': 'S3Prefix',\n",
    "          'S3Uri': 's3://{}/{}/train'.format(bucket,prefix)\n",
    "        }\n",
    "      },\n",
    "      'TargetAttributeName': 'Survived'\n",
    "    }\n",
    "  ]\n",
    "\n",
    "output_data_config = {\n",
    "    'S3OutputPath': 's3://{}/{}/output'.format(bucket,prefix)\n",
    "  }\n",
    "AutoMLJobConfig={\n",
    "        'CompletionCriteria': {\n",
    "            'MaxCandidates': 5,\n",
    "            'MaxRuntimePerTrainingJobInSeconds': 60*10,\n",
    "            'MaxAutoMLJobRuntimeInSeconds': 60*90\n",
    "        }}\n",
    "\n",
    "ProblemType='BinaryClassification'\n",
    "AutoMLJobObjective={'MetricName': 'Accuracy'}"
   ]
  },
  {
   "cell_type": "markdown",
   "metadata": {},
   "source": [
    "### Launching the SageMaker Autopilot Job"
   ]
  },
  {
   "cell_type": "code",
   "execution_count": 6,
   "metadata": {},
   "outputs": [
    {
     "name": "stdout",
     "output_type": "stream",
     "text": [
      "AutoMLJobName: automl-titanik-09-11-36-04\n"
     ]
    },
    {
     "data": {
      "text/plain": [
       "{'AutoMLJobArn': 'arn:aws:sagemaker:eu-west-1:108080333481:automl-job/automl-titanik-09-11-36-04',\n",
       " 'ResponseMetadata': {'RequestId': '650d627c-aec3-4fb8-9c60-d1fce38f6728',\n",
       "  'HTTPStatusCode': 200,\n",
       "  'HTTPHeaders': {'x-amzn-requestid': '650d627c-aec3-4fb8-9c60-d1fce38f6728',\n",
       "   'content-type': 'application/x-amz-json-1.1',\n",
       "   'content-length': '97',\n",
       "   'date': 'Wed, 09 Dec 2020 11:36:04 GMT'},\n",
       "  'RetryAttempts': 0}}"
      ]
     },
     "execution_count": 6,
     "metadata": {},
     "output_type": "execute_result"
    }
   ],
   "source": [
    "\n",
    "timestamp_suffix = strftime('%d-%H-%M-%S', gmtime())\n",
    "auto_ml_job_name = 'automl-titanik-' + timestamp_suffix\n",
    "\n",
    "print('AutoMLJobName: ' + auto_ml_job_name)\n",
    "\n",
    "AutopilotStartTime = datetime.datetime.now()\n",
    "sm.create_auto_ml_job(AutoMLJobName=auto_ml_job_name,\n",
    "                      InputDataConfig=input_data_config,\n",
    "                      OutputDataConfig=output_data_config,\n",
    "                      AutoMLJobConfig = AutoMLJobConfig,\n",
    "                      AutoMLJobObjective = AutoMLJobObjective,\n",
    "                      ProblemType=ProblemType,\n",
    "                      RoleArn=role)"
   ]
  },
  {
   "cell_type": "markdown",
   "metadata": {},
   "source": [
    "### Tracking SageMaker Autopilot job progress"
   ]
  },
  {
   "cell_type": "code",
   "execution_count": 7,
   "metadata": {},
   "outputs": [
    {
     "name": "stdout",
     "output_type": "stream",
     "text": [
      "JobStatus - Secondary Status\n",
      "------------------------------\n",
      "InProgress - Starting\n",
      "InProgress - Starting\n",
      "InProgress - AnalyzingData\n",
      "InProgress - AnalyzingData\n",
      "InProgress - AnalyzingData\n",
      "InProgress - AnalyzingData\n",
      "InProgress - AnalyzingData\n",
      "InProgress - AnalyzingData\n",
      "InProgress - AnalyzingData\n",
      "InProgress - AnalyzingData\n",
      "InProgress - AnalyzingData\n",
      "InProgress - AnalyzingData\n",
      "InProgress - AnalyzingData\n",
      "InProgress - AnalyzingData\n",
      "InProgress - AnalyzingData\n",
      "InProgress - AnalyzingData\n",
      "InProgress - AnalyzingData\n",
      "InProgress - FeatureEngineering\n",
      "InProgress - FeatureEngineering\n",
      "InProgress - FeatureEngineering\n",
      "InProgress - FeatureEngineering\n",
      "InProgress - FeatureEngineering\n",
      "InProgress - FeatureEngineering\n",
      "InProgress - FeatureEngineering\n",
      "InProgress - FeatureEngineering\n",
      "InProgress - FeatureEngineering\n",
      "InProgress - FeatureEngineering\n",
      "InProgress - FeatureEngineering\n",
      "InProgress - FeatureEngineering\n",
      "InProgress - FeatureEngineering\n",
      "InProgress - FeatureEngineering\n",
      "InProgress - FeatureEngineering\n",
      "InProgress - FeatureEngineering\n",
      "InProgress - ModelTuning\n",
      "InProgress - ModelTuning\n",
      "InProgress - ModelTuning\n",
      "InProgress - ModelTuning\n",
      "InProgress - ModelTuning\n",
      "InProgress - ModelTuning\n",
      "InProgress - ModelTuning\n",
      "InProgress - ModelTuning\n",
      "InProgress - ModelTuning\n",
      "Completed - MaxCandidatesReached\n"
     ]
    }
   ],
   "source": [
    "print ('JobStatus - Secondary Status')\n",
    "print('------------------------------')\n",
    "\n",
    "\n",
    "describe_response = sm.describe_auto_ml_job(AutoMLJobName=auto_ml_job_name)\n",
    "print (describe_response['AutoMLJobStatus'] + \" - \" + describe_response['AutoMLJobSecondaryStatus'])\n",
    "job_run_status = describe_response['AutoMLJobStatus']\n",
    "    \n",
    "while job_run_status not in ('Failed', 'Completed', 'Stopped'):\n",
    "    describe_response = sm.describe_auto_ml_job(AutoMLJobName=auto_ml_job_name)\n",
    "    job_run_status = describe_response['AutoMLJobStatus']\n",
    "    \n",
    "    print (describe_response['AutoMLJobStatus'] + \" - \" + describe_response['AutoMLJobSecondaryStatus'])\n",
    "    sleep(30)"
   ]
  },
  {
   "cell_type": "markdown",
   "metadata": {},
   "source": [
    "### Results"
   ]
  },
  {
   "cell_type": "code",
   "execution_count": 59,
   "metadata": {},
   "outputs": [
    {
     "name": "stdout",
     "output_type": "stream",
     "text": [
      "\n",
      "\n",
      "CandidateName: tuning-job-1-52fcfe106274404195-004-39f80672\n",
      "FinalAutoMLJobObjectiveMetricName: validation:accuracy\n",
      "FinalAutoMLJobObjectiveMetricValue: 0.8309900164604187\n",
      "Execution time in minutes: 25.5\n"
     ]
    }
   ],
   "source": [
    "best_candidate = sm.describe_auto_ml_job(AutoMLJobName=auto_ml_job_name)['BestCandidate']\n",
    "best_candidate_name = best_candidate['CandidateName']\n",
    "#print(best_candidate)\n",
    "print('\\n')\n",
    "print(\"CandidateName: \" + best_candidate_name)\n",
    "print(\"FinalAutoMLJobObjectiveMetricName: \" + best_candidate['FinalAutoMLJobObjectiveMetric']['MetricName'])\n",
    "print(\"FinalAutoMLJobObjectiveMetricValue: \" + str(best_candidate['FinalAutoMLJobObjectiveMetric']['Value']))\n",
    "\n",
    "if AutopilotStartTime.tzinfo == None:\n",
    "    AutopilotStartTime = pytz.utc.localize(AutopilotStartTime)\n",
    "execution_time = describe_response['TransformEndTime'] - AutopilotStartTime\n",
    "execution_time_minutes = round(execution_time.total_seconds() / 60,1)\n",
    "print(\"Execution time in minutes: \" + str(execution_time_minutes))"
   ]
  },
  {
   "cell_type": "markdown",
   "metadata": {},
   "source": [
    "### Perform batch inference using the best candidate"
   ]
  },
  {
   "cell_type": "code",
   "execution_count": 9,
   "metadata": {},
   "outputs": [
    {
     "name": "stdout",
     "output_type": "stream",
     "text": [
      "Model ARN corresponding to the best candidate is : arn:aws:sagemaker:eu-west-1:108080333481:model/automl-titanik-model-09-11-36-04\n"
     ]
    }
   ],
   "source": [
    "model_name = 'automl-titanik-model-' + timestamp_suffix\n",
    "\n",
    "model = sm.create_model(Containers=best_candidate['InferenceContainers'],\n",
    "                            ModelName=model_name,\n",
    "                            ExecutionRoleArn=role)\n",
    "\n",
    "print('Model ARN corresponding to the best candidate is : {}'.format(model['ModelArn']))"
   ]
  },
  {
   "cell_type": "markdown",
   "metadata": {},
   "source": [
    "You can use batch inference by using Amazon SageMaker batch transform. The same model can also be deployed to perform online inference using Amazon SageMaker hosting."
   ]
  },
  {
   "cell_type": "code",
   "execution_count": 10,
   "metadata": {},
   "outputs": [
    {
     "data": {
      "text/plain": [
       "{'TransformJobArn': 'arn:aws:sagemaker:eu-west-1:108080333481:transform-job/automl-titanic-transform-09-11-36-04',\n",
       " 'ResponseMetadata': {'RequestId': 'a058e8f9-33fa-4d1b-9a7a-859a203c2c18',\n",
       "  'HTTPStatusCode': 200,\n",
       "  'HTTPHeaders': {'x-amzn-requestid': 'a058e8f9-33fa-4d1b-9a7a-859a203c2c18',\n",
       "   'content-type': 'application/x-amz-json-1.1',\n",
       "   'content-length': '113',\n",
       "   'date': 'Wed, 09 Dec 2020 11:57:10 GMT'},\n",
       "  'RetryAttempts': 0}}"
      ]
     },
     "execution_count": 10,
     "metadata": {},
     "output_type": "execute_result"
    }
   ],
   "source": [
    "transform_job_name = 'automl-titanic-transform-' + timestamp_suffix\n",
    "\n",
    "transform_input = {\n",
    "        'DataSource': {\n",
    "            'S3DataSource': {\n",
    "                'S3DataType': 'S3Prefix',\n",
    "                'S3Uri': 's3://{}/{}/test'.format(bucket,prefix)\n",
    "            }\n",
    "        },\n",
    "        'ContentType': 'text/csv',\n",
    "        'CompressionType': 'None',\n",
    "        'SplitType': 'Line'\n",
    "    }\n",
    "\n",
    "transform_output = {\n",
    "        'S3OutputPath': 's3://{}/{}/inference-results'.format(bucket,prefix),\n",
    "    }\n",
    "\n",
    "transform_resources = {\n",
    "        'InstanceType': 'ml.m5.4xlarge',\n",
    "        'InstanceCount': 1\n",
    "    }\n",
    "\n",
    "sm.create_transform_job(TransformJobName = transform_job_name,\n",
    "                        ModelName = model_name,\n",
    "                        TransformInput = transform_input,\n",
    "                        TransformOutput = transform_output,\n",
    "                        TransformResources = transform_resources\n",
    ")"
   ]
  },
  {
   "cell_type": "markdown",
   "metadata": {},
   "source": [
    "Watch the transform job for completion."
   ]
  },
  {
   "cell_type": "code",
   "execution_count": 11,
   "metadata": {},
   "outputs": [
    {
     "name": "stdout",
     "output_type": "stream",
     "text": [
      "JobStatus\n",
      "----------\n",
      "InProgress\n",
      "InProgress\n",
      "InProgress\n",
      "InProgress\n",
      "InProgress\n",
      "InProgress\n",
      "InProgress\n",
      "InProgress\n",
      "InProgress\n",
      "InProgress\n",
      "Completed\n"
     ]
    }
   ],
   "source": [
    "print ('JobStatus')\n",
    "print('----------')\n",
    "\n",
    "\n",
    "describe_response = sm.describe_transform_job(TransformJobName = transform_job_name)\n",
    "job_run_status = describe_response['TransformJobStatus']\n",
    "print (job_run_status)\n",
    "\n",
    "while job_run_status not in ('Failed', 'Completed', 'Stopped'):\n",
    "    describe_response = sm.describe_transform_job(TransformJobName = transform_job_name)\n",
    "    job_run_status = describe_response['TransformJobStatus']\n",
    "    print (job_run_status)\n",
    "    sleep(30)"
   ]
  },
  {
   "cell_type": "markdown",
   "metadata": {},
   "source": [
    "Now let's view the results of the transform job:"
   ]
  },
  {
   "cell_type": "code",
   "execution_count": 72,
   "metadata": {},
   "outputs": [
    {
     "data": {
      "image/png": "[encoded data removed]",
      "text/plain": [
       "<Figure size 432x288 with 2 Axes>"
      ]
     },
     "metadata": {
      "needs_background": "light"
     },
     "output_type": "display_data"
    },
    {
     "name": "stdout",
     "output_type": "stream",
     "text": [
      "AWS Autopilo accuracy is 80.34% with a trainig time of 25.5 minutes.\n",
      "Autopilot had the following constraints:\n"
     ]
    },
    {
     "data": {
      "text/plain": [
       "{'MaxCandidates': 5,\n",
       " 'MaxRuntimePerTrainingJobInSeconds': 600,\n",
       " 'MaxAutoMLJobRuntimeInSeconds': 5400}"
      ]
     },
     "execution_count": 72,
     "metadata": {},
     "output_type": "execute_result"
    }
   ],
   "source": [
    "s3_output_key = '{}/inference-results/test_data.csv.out'.format(prefix);\n",
    "local_inference_results_path = 'inference_results.csv'\n",
    "\n",
    "s3 = boto3.resource('s3')\n",
    "inference_results_bucket = s3.Bucket(session.default_bucket())\n",
    "\n",
    "inference_results_bucket.download_file(s3_output_key, local_inference_results_path);\n",
    "\n",
    "data = pd.read_csv(local_inference_results_path, sep=';',  header=None)\n",
    "\n",
    "conf_data = {'y_Actual': df_test.Survived.values  ,\n",
    "             'y_Predicted': data.values.transpose()[0]}\n",
    "\n",
    "df = pd.DataFrame(conf_data, columns=['y_Actual','y_Predicted'])\n",
    "confusion_matrix = pd.crosstab(df['y_Actual'], df['y_Predicted'], rownames=['Actual'], colnames=['Predicted'])\n",
    "sn.heatmap(confusion_matrix, annot=True)\n",
    "plt.show()\n",
    "\n",
    "prediction_accuracy = accuracy_score(conf_data['y_Actual'], conf_data['y_Predicted'])\n",
    "print('AWS Autopilo accuracy is ' + str(round(prediction_accuracy * 100,2)) + '% with a trainig time of ' + str(execution_time_minutes) + ' minutes.')\n",
    "print('Autopilot had the following constraints:')\n",
    "AutoMLJobConfig['CompletionCriteria']\n"
   ]
  },
  {
   "cell_type": "markdown",
   "metadata": {},
   "source": [
    "### Candidate Generation Notebook"
   ]
  },
  {
   "cell_type": "code",
   "execution_count": 74,
   "metadata": {},
   "outputs": [
    {
     "data": {
      "text/plain": [
       "'s3://sagemaker-eu-west-1-108080333481/titanic/output/automl-titanik-09-11-36-04/sagemaker-automl-candidates/pr-1-8922ae9cdb2840eebf27921063f3691b2fa3e100d0dc45e4864f28e096/notebooks/SageMakerAutopilotCandidateDefinitionNotebook.ipynb'"
      ]
     },
     "execution_count": 74,
     "metadata": {},
     "output_type": "execute_result"
    }
   ],
   "source": [
    "sm.describe_auto_ml_job(AutoMLJobName=auto_ml_job_name)['AutoMLJobArtifacts']['CandidateDefinitionNotebookLocation']"
   ]
  },
  {
   "cell_type": "markdown",
   "metadata": {},
   "source": [
    "### Data Exploration Notebook"
   ]
  },
  {
   "cell_type": "code",
   "execution_count": 75,
   "metadata": {},
   "outputs": [
    {
     "data": {
      "text/plain": [
       "'s3://sagemaker-eu-west-1-108080333481/titanic/output/automl-titanik-09-11-36-04/sagemaker-automl-candidates/pr-1-8922ae9cdb2840eebf27921063f3691b2fa3e100d0dc45e4864f28e096/notebooks/SageMakerAutopilotDataExplorationNotebook.ipynb'"
      ]
     },
     "execution_count": 75,
     "metadata": {},
     "output_type": "execute_result"
    }
   ],
   "source": [
    "sm.describe_auto_ml_job(AutoMLJobName=auto_ml_job_name)['AutoMLJobArtifacts']['DataExplorationNotebookLocation']"
   ]
  },
  {
   "cell_type": "markdown",
   "metadata": {},
   "source": [
    "### Cleanup"
   ]
  },
  {
   "cell_type": "code",
   "execution_count": null,
   "metadata": {},
   "outputs": [],
   "source": [
    "#s3 = boto3.resource('s3')\n",
    "#bucket = s3.Bucket(bucket)\n",
    "\n",
    "#job_outputs_prefix = '{}/output/{}'.format(prefix,auto_ml_job_name)\n",
    "#bucket.objects.filter(Prefix=job_outputs_prefix).delete()"
   ]
  }
 ],
 "metadata": {
  "kernelspec": {
   "display_name": "conda_python3",
   "language": "python",
   "name": "conda_python3"
  },
  "language_info": {
   "codemirror_mode": {
    "name": "ipython",
    "version": 3
   },
   "file_extension": ".py",
   "mimetype": "text/x-python",
   "name": "python",
   "nbconvert_exporter": "python",
   "pygments_lexer": "ipython3",
   "version": "3.6.10"
  }
 },
 "nbformat": 4,
 "nbformat_minor": 4
}
